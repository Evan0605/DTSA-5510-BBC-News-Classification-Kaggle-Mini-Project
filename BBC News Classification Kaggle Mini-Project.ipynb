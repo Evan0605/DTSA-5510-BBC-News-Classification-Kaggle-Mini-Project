{
 "cells": [
  {
   "cell_type": "code",
   "execution_count": 71,
   "metadata": {},
   "outputs": [],
   "source": [
    "import pandas as pd\n",
    "import numpy as np\n",
    "import datetime\n",
    "import seaborn as sns\n",
    "import matplotlib.pyplot as plt\n",
    "import matplotlib\n",
    "from nltk import WordNetLemmatizer\n",
    "from nltk.tokenize import word_tokenize\n",
    "from nltk.corpus import stopwords\n",
    "from string import punctuation, digits\n",
    "from sklearn.feature_extraction.text import TfidfVectorizer\n",
    "from sklearn.decomposition import NMF\n",
    "from sklearn.pipeline import Pipeline\n",
    "from sklearn.ensemble import RandomForestClassifier\n",
    "from sklearn.metrics import accuracy_score\n",
    "import itertools\n",
    "import warnings\n",
    "warnings.filterwarnings('ignore')\n",
    "%matplotlib inline\n",
    "pd.set_option('display.max_columns', None)\n",
    "color = ['#247BA0', '#F6511D', '#7FB800', '#FFB400', '#F25F5C', '#50514F']"
   ]
  },
  {
   "cell_type": "markdown",
   "metadata": {},
   "source": [
    "The goal of the this project is to use machine learning algorithm to categorize article based on the text content."
   ]
  },
  {
   "cell_type": "markdown",
   "metadata": {},
   "source": [
    "Reading the data files first"
   ]
  },
  {
   "cell_type": "code",
   "execution_count": 102,
   "metadata": {},
   "outputs": [],
   "source": [
    "bbc_train_df = pd.read_csv('BBC News Train.csv')\n",
    "bbc_test_df = pd.read_csv('BBC News Test.csv')"
   ]
  },
  {
   "cell_type": "code",
   "execution_count": 103,
   "metadata": {},
   "outputs": [
    {
     "data": {
      "text/html": [
       "<div>\n",
       "<style scoped>\n",
       "    .dataframe tbody tr th:only-of-type {\n",
       "        vertical-align: middle;\n",
       "    }\n",
       "\n",
       "    .dataframe tbody tr th {\n",
       "        vertical-align: top;\n",
       "    }\n",
       "\n",
       "    .dataframe thead th {\n",
       "        text-align: right;\n",
       "    }\n",
       "</style>\n",
       "<table border=\"1\" class=\"dataframe\">\n",
       "  <thead>\n",
       "    <tr style=\"text-align: right;\">\n",
       "      <th></th>\n",
       "      <th>ArticleId</th>\n",
       "      <th>Text</th>\n",
       "      <th>Category</th>\n",
       "    </tr>\n",
       "  </thead>\n",
       "  <tbody>\n",
       "    <tr>\n",
       "      <th>0</th>\n",
       "      <td>1833</td>\n",
       "      <td>worldcom ex-boss launches defence lawyers defe...</td>\n",
       "      <td>business</td>\n",
       "    </tr>\n",
       "    <tr>\n",
       "      <th>1</th>\n",
       "      <td>154</td>\n",
       "      <td>german business confidence slides german busin...</td>\n",
       "      <td>business</td>\n",
       "    </tr>\n",
       "    <tr>\n",
       "      <th>2</th>\n",
       "      <td>1101</td>\n",
       "      <td>bbc poll indicates economic gloom citizens in ...</td>\n",
       "      <td>business</td>\n",
       "    </tr>\n",
       "    <tr>\n",
       "      <th>3</th>\n",
       "      <td>1976</td>\n",
       "      <td>lifestyle  governs mobile choice  faster  bett...</td>\n",
       "      <td>tech</td>\n",
       "    </tr>\n",
       "    <tr>\n",
       "      <th>4</th>\n",
       "      <td>917</td>\n",
       "      <td>enron bosses in $168m payout eighteen former e...</td>\n",
       "      <td>business</td>\n",
       "    </tr>\n",
       "  </tbody>\n",
       "</table>\n",
       "</div>"
      ],
      "text/plain": [
       "   ArticleId                                               Text  Category\n",
       "0       1833  worldcom ex-boss launches defence lawyers defe...  business\n",
       "1        154  german business confidence slides german busin...  business\n",
       "2       1101  bbc poll indicates economic gloom citizens in ...  business\n",
       "3       1976  lifestyle  governs mobile choice  faster  bett...      tech\n",
       "4        917  enron bosses in $168m payout eighteen former e...  business"
      ]
     },
     "execution_count": 103,
     "metadata": {},
     "output_type": "execute_result"
    }
   ],
   "source": [
    "bbc_train_df.head()"
   ]
  },
  {
   "cell_type": "markdown",
   "metadata": {},
   "source": [
    "The training dataset contains 1,490 samples, and each row consists of the article id, content and category"
   ]
  },
  {
   "cell_type": "code",
   "execution_count": 6,
   "metadata": {},
   "outputs": [
    {
     "name": "stdout",
     "output_type": "stream",
     "text": [
      "<class 'pandas.core.frame.DataFrame'>\n",
      "RangeIndex: 1490 entries, 0 to 1489\n",
      "Data columns (total 3 columns):\n",
      " #   Column     Non-Null Count  Dtype \n",
      "---  ------     --------------  ----- \n",
      " 0   ArticleId  1490 non-null   int64 \n",
      " 1   Text       1490 non-null   object\n",
      " 2   Category   1490 non-null   object\n",
      "dtypes: int64(1), object(2)\n",
      "memory usage: 35.0+ KB\n"
     ]
    }
   ],
   "source": [
    "bbc_train_df.info()"
   ]
  },
  {
   "cell_type": "markdown",
   "metadata": {},
   "source": [
    "The training dataset seems to be balance, the number of sport and business articles are slightly more than other categories."
   ]
  },
  {
   "cell_type": "code",
   "execution_count": 7,
   "metadata": {},
   "outputs": [
    {
     "data": {
      "text/plain": [
       "sport            346\n",
       "business         336\n",
       "politics         274\n",
       "entertainment    273\n",
       "tech             261\n",
       "Name: Category, dtype: int64"
      ]
     },
     "execution_count": 7,
     "metadata": {},
     "output_type": "execute_result"
    }
   ],
   "source": [
    "bbc_train_df['Category'].value_counts()"
   ]
  },
  {
   "cell_type": "code",
   "execution_count": 8,
   "metadata": {},
   "outputs": [
    {
     "data": {
      "text/plain": [
       "<matplotlib.axes._subplots.AxesSubplot at 0x23dcd664190>"
      ]
     },
     "execution_count": 8,
     "metadata": {},
     "output_type": "execute_result"
    },
    {
     "data": {
      "image/png": "[encoded data removed]",
      "text/plain": [
       "<Figure size 432x288 with 1 Axes>"
      ]
     },
     "metadata": {
      "needs_background": "light"
     },
     "output_type": "display_data"
    }
   ],
   "source": [
    "bbc_train_df['Category'].value_counts().plot.bar(x = 'lab', y = 'val', rot = 0)"
   ]
  },
  {
   "cell_type": "markdown",
   "metadata": {},
   "source": [
    "Cleaning the text content by transforming into lower letters, removing stop words and punctuation, and lemmatizing words"
   ]
  },
  {
   "cell_type": "code",
   "execution_count": 104,
   "metadata": {},
   "outputs": [],
   "source": [
    "bbc_train_df['clean_text'] = bbc_train_df['Text'].str.lower()\n",
    "stop_words = list(stopwords.words('english'))\n",
    "punctuation = list(punctuation)\n",
    "clean_text_list = []\n",
    "lemmatizer = WordNetLemmatizer()\n",
    "for row in bbc_train_df['clean_text']:\n",
    "    text_split = row.split()\n",
    "    clean_temp = [lemmatizer.lemmatize(word) for word in text_split if word not in stop_words and word not in punctuation]\n",
    "    clean_temp = ' '.join(clean_temp)\n",
    "    clean_text_list.append(clean_temp)\n",
    "bbc_train_df['clean_text'] = pd.Series(clean_text_list)"
   ]
  },
  {
   "cell_type": "markdown",
   "metadata": {},
   "source": [
    "Using scikit learn TfidfVectorizer function to extract features from raw text."
   ]
  },
  {
   "cell_type": "code",
   "execution_count": 105,
   "metadata": {},
   "outputs": [],
   "source": [
    "tfidf_vectorizer = TfidfVectorizer(max_df = 0.95, min_df = 2,\n",
    "                                   max_features = 1000,\n",
    "                                   stop_words = 'english')\n",
    "tfidvec_train = tfidf_vectorizer.fit_transform(bbc_train_df['clean_text'])"
   ]
  },
  {
   "cell_type": "markdown",
   "metadata": {},
   "source": [
    "Building predict function to transform tfidf matrix in to prediction"
   ]
  },
  {
   "cell_type": "code",
   "execution_count": 106,
   "metadata": {},
   "outputs": [],
   "source": [
    "def predict(nmf_matrix):\n",
    "    sorted_index = np.argsort(nmf_matrix)\n",
    "    n_sample, n_cat = sorted_index.shape\n",
    "    prediction = [[sorted_index[i][n_cat - 1]] for i in range(n_sample)]\n",
    "    cat = np.empty(n_sample, dtype = np.int64)\n",
    "    for i in range(n_sample):\n",
    "        cat[i] = prediction[i][0]\n",
    "    return cat"
   ]
  },
  {
   "cell_type": "markdown",
   "metadata": {},
   "source": [
    "Building label_permute_compare function to calculate model accuracy and return label order"
   ]
  },
  {
   "cell_type": "code",
   "execution_count": 107,
   "metadata": {},
   "outputs": [],
   "source": [
    "def label_permute_compare(ytdf,yp,n=5):\n",
    "    acc = 0\n",
    "    labelorder = ()\n",
    "    for e in itertools.permutations(ytdf['Category'].unique()):\n",
    "        df_label = pd.DataFrame({'model_label': range(5), 'model_Category': list(e)})\n",
    "        df_model_label = pd.merge(pd.DataFrame({'model_label': yp, 'true_Category': ytdf['Category']}), df_label, on = 'model_label')\n",
    "        accuracy_c = df_model_label[df_model_label['true_Category']==df_model_label['model_Category']].shape[0]/df_model_label.shape[0]\n",
    "        if accuracy_c > acc:\n",
    "            acc = accuracy_c\n",
    "            labelorder = tuple(pd.merge(pd.DataFrame({'model_Category': ytdf['Category'].unique()}),\n",
    "                                        df_label, how = 'left')['model_label'])\n",
    "            label_order = df_label\n",
    "    return (labelorder, acc, label_order)"
   ]
  },
  {
   "cell_type": "markdown",
   "metadata": {},
   "source": [
    "Trying different combinations of attributes in the NMF model to find out the best model"
   ]
  },
  {
   "cell_type": "code",
   "execution_count": 108,
   "metadata": {},
   "outputs": [
    {
     "name": "stdout",
     "output_type": "stream",
     "text": [
      "nndsvd cd frobenius 0.8919463087248322\n",
      "nndsvd mu frobenius 0.8798657718120806\n",
      "nndsvd mu kullback-leibler 0.9114093959731544\n",
      "nndsvda cd frobenius 0.8919463087248322\n",
      "nndsvda mu frobenius 0.9013422818791946\n",
      "nndsvda mu kullback-leibler 0.9476510067114094\n",
      "nndsvdar cd frobenius 0.8919463087248322\n",
      "nndsvdar mu frobenius 0.9026845637583892\n",
      "nndsvdar mu kullback-leibler 0.9476510067114094\n"
     ]
    }
   ],
   "source": [
    "best_init = ''\n",
    "best_solver = ''\n",
    "best_beta_loss = ''\n",
    "best_acc= 0\n",
    "\n",
    "for init in ['nndsvd', 'nndsvda', 'nndsvdar']:\n",
    "    for solver in ['cd', 'mu']:\n",
    "        for beta_loss in ['frobenius', 'kullback-leibler', 'itakura-saito']:\n",
    "            try:\n",
    "                nmf = NMF(n_components = 5, random_state = 1, l1_ratio = 0.5,\n",
    "                      init = init,\n",
    "                      solver = solver,\n",
    "                      beta_loss = beta_loss).fit(tfidvec_train)\n",
    "                nmf_matrix = nmf.transform(tfidvec_train)\n",
    "                yp = predict(nmf_matrix)\n",
    "                labelorder, acc, label_order = label_permute_compare(bbc_train_df, yp, n = 5)\n",
    "                print(init, solver, beta_loss, acc)\n",
    "                if acc > best_acc:\n",
    "                    best_acc= acc\n",
    "                    best_init = init\n",
    "                    best_solver = solver\n",
    "                    best_beta_loss = beta_loss\n",
    "            except:    \n",
    "                pass"
   ]
  },
  {
   "cell_type": "code",
   "execution_count": 109,
   "metadata": {},
   "outputs": [
    {
     "name": "stdout",
     "output_type": "stream",
     "text": [
      "nndsvda mu kullback-leibler  leads the best performance.\n",
      "(3, 4, 0, 1, 2) accuracy is 0.9476510067114094\n"
     ]
    }
   ],
   "source": [
    "nmf = NMF(n_components = 5, random_state = 1, l1_ratio = 0.5,\n",
    "          init = best_init,\n",
    "          solver = best_solver,\n",
    "          beta_loss = best_beta_loss).fit(tfidvec_train)\n",
    "nmf_matrix = nmf.transform(tfidvec_train)\n",
    "yp = predict(nmf_matrix)\n",
    "labelorder, acc, label_order = label_permute_compare(bbc_train_df, yp, n = 5)\n",
    "print(best_init, best_solver, best_beta_loss, ' leads the best performance.')\n",
    "print(str(labelorder) + ' accuracy is ' +  str(acc))"
   ]
  },
  {
   "cell_type": "markdown",
   "metadata": {},
   "source": [
    "Cleaning the test dataset"
   ]
  },
  {
   "cell_type": "code",
   "execution_count": 110,
   "metadata": {},
   "outputs": [],
   "source": [
    "bbc_test_df['clean_text'] = bbc_test_df['Text'].str.lower()\n",
    "stop_words = list(stopwords.words('english'))\n",
    "punctuation = list(punctuation)\n",
    "clean_text_list = []\n",
    "lemmatizer = WordNetLemmatizer()\n",
    "for row in bbc_test_df['clean_text']:\n",
    "    text_split = row.split()\n",
    "    clean_temp = [lemmatizer.lemmatize(word) for word in text_split if word not in stop_words and word not in punctuation]\n",
    "    clean_temp = ' '.join(clean_temp)\n",
    "    clean_text_list.append(clean_temp)\n",
    "bbc_test_df['clean_text'] = pd.Series(clean_text_list)"
   ]
  },
  {
   "cell_type": "markdown",
   "metadata": {},
   "source": [
    "Using the model above to make predictions on test data"
   ]
  },
  {
   "cell_type": "code",
   "execution_count": 111,
   "metadata": {},
   "outputs": [],
   "source": [
    "tfidvec_test = tfidf_vectorizer.transform(bbc_test_df['clean_text'])"
   ]
  },
  {
   "cell_type": "code",
   "execution_count": 112,
   "metadata": {},
   "outputs": [],
   "source": [
    "nmf_matrix_test = nmf.transform(tfidvec_test)\n",
    "yp_test = predict(nmf_matrix_test)"
   ]
  },
  {
   "cell_type": "code",
   "execution_count": 115,
   "metadata": {},
   "outputs": [],
   "source": [
    "df_model_label_test = pd.merge(pd.DataFrame({'ArticleId': bbc_test_df['ArticleId'], 'model_label': yp_test}), label_order, on = 'model_label', how = 'left')"
   ]
  },
  {
   "cell_type": "code",
   "execution_count": 116,
   "metadata": {},
   "outputs": [],
   "source": [
    "submission_nmf = df_model_label_test[['ArticleId', 'model_Category']]\n",
    "submission_nmf.columns = ['ArticleId', 'Category']\n",
    "submission_nmf.to_csv('submission_nmf.csv', index = False)"
   ]
  },
  {
   "cell_type": "markdown",
   "metadata": {},
   "source": [
    "This submission scores 0.93877"
   ]
  },
  {
   "cell_type": "code",
   "execution_count": null,
   "metadata": {},
   "outputs": [],
   "source": []
  },
  {
   "cell_type": "markdown",
   "metadata": {},
   "source": [
    "In the following, we use supervised machine learning random forest to make the prediction"
   ]
  },
  {
   "cell_type": "code",
   "execution_count": 117,
   "metadata": {},
   "outputs": [],
   "source": [
    "X_train = bbc_train_df['clean_text']\n",
    "Y_train = bbc_train_df['Category']\n",
    "X_test = bbc_test_df['clean_text']"
   ]
  },
  {
   "cell_type": "code",
   "execution_count": 119,
   "metadata": {},
   "outputs": [
    {
     "data": {
      "text/plain": [
       "Pipeline(steps=[('tffidf', TfidfVectorizer()),\n",
       "                ('clf', RandomForestClassifier())])"
      ]
     },
     "execution_count": 119,
     "metadata": {},
     "output_type": "execute_result"
    }
   ],
   "source": [
    "clf = Pipeline([('tffidf', TfidfVectorizer()),\n",
    "                ('clf', RandomForestClassifier(n_estimators=100))])\n",
    "clf.fit(X_train, Y_train)"
   ]
  },
  {
   "cell_type": "code",
   "execution_count": 120,
   "metadata": {},
   "outputs": [
    {
     "data": {
      "text/plain": [
       "1.0"
      ]
     },
     "execution_count": 120,
     "metadata": {},
     "output_type": "execute_result"
    }
   ],
   "source": [
    "clf.score(X_train, Y_train)"
   ]
  },
  {
   "cell_type": "code",
   "execution_count": 121,
   "metadata": {},
   "outputs": [],
   "source": [
    "Y_predict = clf.predict(X_test)"
   ]
  },
  {
   "cell_type": "code",
   "execution_count": 124,
   "metadata": {},
   "outputs": [],
   "source": [
    "submission_randomforest = pd.DataFrame({'ArticleId': bbc_test_df['ArticleId'], 'Category': Y_predict})\n",
    "submission_randomforest.to_csv('submission_randomforest.csv', index = False)"
   ]
  },
  {
   "cell_type": "markdown",
   "metadata": {},
   "source": [
    "This submission scores 0.96326"
   ]
  },
  {
   "cell_type": "code",
   "execution_count": null,
   "metadata": {},
   "outputs": [],
   "source": []
  },
  {
   "cell_type": "markdown",
   "metadata": {},
   "source": [
    "Using Non-Negative Matrix Factorization, we have a training score of 94.77%, and the test score is 93.88%. Using Random Forest Classifier, we have a training score of 100%, and the test score is 96.32%. It seems that supervised machine learning got a better result by comparing with unsupervised machine learning, but overall the results of these models are both good."
   ]
  }
 ],
 "metadata": {
  "kernelspec": {
   "display_name": "Python 3",
   "language": "python",
   "name": "python3"
  },
  "language_info": {
   "codemirror_mode": {
    "name": "ipython",
    "version": 3
   },
   "file_extension": ".py",
   "mimetype": "text/x-python",
   "name": "python",
   "nbconvert_exporter": "python",
   "pygments_lexer": "ipython3",
   "version": "3.8.3"
  }
 },
 "nbformat": 4,
 "nbformat_minor": 4
}
