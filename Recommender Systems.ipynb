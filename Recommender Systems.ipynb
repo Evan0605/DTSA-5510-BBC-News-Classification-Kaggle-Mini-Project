{
 "cells": [
  {
   "cell_type": "code",
   "execution_count": 13,
   "metadata": {},
   "outputs": [],
   "source": [
    "import pandas as pd\n",
    "import numpy as np\n",
    "import datetime\n",
    "import seaborn as sns\n",
    "import matplotlib.pyplot as plt\n",
    "import matplotlib\n",
    "from nltk import WordNetLemmatizer\n",
    "from nltk.tokenize import word_tokenize\n",
    "from nltk.corpus import stopwords\n",
    "from string import punctuation, digits\n",
    "from sklearn.feature_extraction.text import TfidfVectorizer\n",
    "from sklearn.decomposition import NMF\n",
    "from sklearn.metrics import accuracy_score\n",
    "from sklearn.model_selection import train_test_split\n",
    "from scipy.sparse import coo_matrix, csr_matrix\n",
    "from pytest import approx\n",
    "import itertools\n",
    "import warnings\n",
    "warnings.filterwarnings('ignore')\n",
    "%matplotlib inline\n",
    "pd.set_option('display.max_columns', None)\n",
    "color = ['#247BA0', '#F6511D', '#7FB800', '#FFB400', '#F25F5C', '#50514F']"
   ]
  },
  {
   "cell_type": "markdown",
   "metadata": {},
   "source": [
    "1. Load the movie ratings data (as in the HW3-recommender-system) and use matrix factorization technique(s) and predict the missing ratings from the test data. Measure the RMSE. You should use sklearn library. [10 pts]\n",
    "\n",
    "Make sure that your notebook includes the following:\n",
    "\n",
    "use's sklearn's non-negative matrix factorization\n",
    "\n",
    "notebook shows the RMSE with an analysis of what that RMSE means"
   ]
  },
  {
   "cell_type": "code",
   "execution_count": 6,
   "metadata": {},
   "outputs": [],
   "source": [
    "MV_users = pd.read_csv('users.csv')\n",
    "MV_movies = pd.read_csv('movies.csv')\n",
    "train = pd.read_csv('train.csv')\n",
    "test = pd.read_csv('test.csv')"
   ]
  },
  {
   "cell_type": "code",
   "execution_count": 7,
   "metadata": {},
   "outputs": [],
   "source": [
    "from collections import namedtuple\n",
    "Data = namedtuple('Data', ['users','movies','train','test'])\n",
    "data = Data(MV_users, MV_movies, train, test)"
   ]
  },
  {
   "cell_type": "code",
   "execution_count": 18,
   "metadata": {},
   "outputs": [],
   "source": [
    "class RecSys():\n",
    "    def __init__(self,data):\n",
    "        self.data=data\n",
    "        self.allusers = list(self.data.users['uID'])\n",
    "        self.allmovies = list(self.data.movies['mID'])\n",
    "        self.genres = list(self.data.movies.columns.drop(['mID', 'title', 'year']))\n",
    "        self.mid2idx = dict(zip(self.data.movies.mID,list(range(len(self.data.movies)))))\n",
    "        self.uid2idx = dict(zip(self.data.users.uID,list(range(len(self.data.users)))))\n",
    "        self.Mr=self.rating_matrix()\n",
    "        self.Mm=None \n",
    "        self.sim=np.zeros((len(self.allmovies),len(self.allmovies)))\n",
    "        \n",
    "    def rating_matrix(self):\n",
    "        \"\"\"\n",
    "        Convert the rating matrix to numpy array of shape (#allusers,#allmovies)\n",
    "        \"\"\"\n",
    "        ind_movie = [self.mid2idx[x] for x in self.data.train.mID] \n",
    "        ind_user = [self.uid2idx[x] for x in self.data.train.uID]\n",
    "        rating_train = list(train.rating)\n",
    "        return np.array(coo_matrix((rating_train, (ind_user, ind_movie)), shape=(len(self.allusers), len(self.allmovies))).toarray())\n",
    "    \n",
    "    def rmse(self,yp):\n",
    "        yp[np.isnan(yp)]=3 #In case there is nan values in prediction, it will impute to 3.\n",
    "        yt=np.array(self.data.test.rating)\n",
    "        return np.sqrt(((yt-yp)**2).mean())"
   ]
  },
  {
   "cell_type": "code",
   "execution_count": 74,
   "metadata": {},
   "outputs": [],
   "source": [
    "rs = RecSys(data)"
   ]
  },
  {
   "cell_type": "markdown",
   "metadata": {},
   "source": [
    "Trying different combinations of attributes in the NMF model to find out the best model"
   ]
  },
  {
   "cell_type": "code",
   "execution_count": 75,
   "metadata": {},
   "outputs": [
    {
     "name": "stdout",
     "output_type": "stream",
     "text": [
      "nndsvd cd frobenius 2.991422658477686\n",
      "nndsvd mu frobenius 3.120610583675257\n",
      "nndsvd mu kullback-leibler 3.1897507750557383\n",
      "nndsvda cd frobenius 3.064032365162081\n",
      "nndsvda mu frobenius 3.134147817903623\n",
      "nndsvda mu kullback-leibler 3.2611967252752065\n",
      "nndsvdar cd frobenius 2.9916708798576046\n",
      "nndsvdar mu frobenius 3.0955019795549497\n",
      "nndsvdar mu kullback-leibler 3.1790577003096097\n"
     ]
    }
   ],
   "source": [
    "best_init = ''\n",
    "best_solver = ''\n",
    "best_beta_loss = ''\n",
    "best_rmse = 100\n",
    "\n",
    "for init in ['nndsvd', 'nndsvda', 'nndsvdar']:\n",
    "    for solver in ['cd', 'mu']:\n",
    "        for beta_loss in ['frobenius', 'kullback-leibler', 'itakura-saito']:\n",
    "            try:\n",
    "                nmf = NMF(n_components = 5, random_state = 1, l1_ratio = 0.5,\n",
    "                      init = init,\n",
    "                      solver = solver,\n",
    "                      beta_loss = beta_loss).fit(rs.Mr)\n",
    "                nmf_matrix = nmf.transform(rs.Mr)\n",
    "                nmf_component_matrix = nmf_model.components_\n",
    "                rating_matrix = np.dot(nmf_matrix, nmf_component_matrix)\n",
    "                nmf_prediction =[]\n",
    "                for uid, mid in zip(rs.data.test['uID'], rs.data.test['mID']):\n",
    "                    nmf_prediction.append(rating_matrix[rs.uid2idx[uid], rs.mid2idx[mid]])\n",
    "                nmf_prediction = np.array(nmf_prediction)\n",
    "                rmse = rs.rmse(nmf_prediction)\n",
    "                print(init, solver, beta_loss, rmse)\n",
    "                \n",
    "                if rmse < best_rmse:\n",
    "                    best_rmse = rmse\n",
    "                    best_init = init\n",
    "                    best_solver = solver\n",
    "                    best_beta_loss = beta_loss\n",
    "            except:    \n",
    "                pass"
   ]
  },
  {
   "cell_type": "code",
   "execution_count": 76,
   "metadata": {},
   "outputs": [
    {
     "name": "stdout",
     "output_type": "stream",
     "text": [
      "nndsvd cd frobenius  leads the best performance.\n",
      "RMSE is 2.991422658477686\n"
     ]
    }
   ],
   "source": [
    "nmf = NMF(n_components = 5, random_state = 1, l1_ratio = 0.5,\n",
    "          init = best_init,\n",
    "          solver = best_solver,\n",
    "          beta_loss = best_beta_loss).fit(rs.Mr)\n",
    "nmf_matrix = nmf.transform(rs.Mr)\n",
    "nmf_component_matrix = nmf_model.components_\n",
    "rating_matrix = np.dot(nmf_matrix, nmf_component_matrix)\n",
    "nmf_prediction =[]\n",
    "for uid, mid in zip(rs.data.test['uID'], rs.data.test['mID']):\n",
    "    nmf_prediction.append(rating_matrix[rs.uid2idx[uid], rs.mid2idx[mid]])\n",
    "nmf_prediction = np.array(nmf_prediction)\n",
    "rmse = rs.rmse(nmf_prediction)\n",
    "print(best_init, best_solver, best_beta_loss, ' leads the best performance.')\n",
    "print('RMSE is ' +  str(rmse))"
   ]
  },
  {
   "cell_type": "markdown",
   "metadata": {},
   "source": [
    "The rmse of the best model is 2.99, which is much worse than Jaccard and Cosines similarity, even worse than predicting everything to 3."
   ]
  },
  {
   "cell_type": "code",
   "execution_count": null,
   "metadata": {},
   "outputs": [],
   "source": []
  },
  {
   "cell_type": "markdown",
   "metadata": {},
   "source": [
    "2. Discuss the results and why they did not work well compared to simple baseline or similarity-based methods we’ve done in Module 3. Can you suggest a way(s) to fix it? [10 pts]"
   ]
  },
  {
   "cell_type": "markdown",
   "metadata": {},
   "source": [
    "The poor result is because of there are too many missing ratings in the dataset, and we keep every missing rating as zero in the matrix. One way to fix it is to fill the 0s with 3s or mean ratings of movies first, and then use the NMD model to predict the result."
   ]
  }
 ],
 "metadata": {
  "kernelspec": {
   "display_name": "Python 3",
   "language": "python",
   "name": "python3"
  },
  "language_info": {
   "codemirror_mode": {
    "name": "ipython",
    "version": 3
   },
   "file_extension": ".py",
   "mimetype": "text/x-python",
   "name": "python",
   "nbconvert_exporter": "python",
   "pygments_lexer": "ipython3",
   "version": "3.8.3"
  }
 },
 "nbformat": 4,
 "nbformat_minor": 4
}
